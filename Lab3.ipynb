{
 "cells": [
  {
   "cell_type": "markdown",
   "id": "667e9e7b",
   "metadata": {},
   "source": [
    "- Прочитайте главы 7-8 из книги \"Spark: The Definitive Guide\".\n",
    "- Загрузите датасеты по ссылкам:\n",
    "    - https://www.kaggle.com/datasets/sveta151/tiktok-popular-songs-2019\n",
    "    - https://www.kaggle.com/datasets/sveta151/tiktok-popular-songs-2020\n",
    "    - https://www.kaggle.com/datasets/sveta151/tiktok-popular-songs-2021\n",
    "    - https://www.kaggle.com/datasets/sveta151/tiktok-popular-songs-2022\n",
    "- Выполните задания."
   ]
  },
  {
   "cell_type": "code",
   "execution_count": 2,
   "id": "90ae95f5",
   "metadata": {},
   "outputs": [
    {
     "name": "stdout",
     "output_type": "stream",
     "text": [
      "23/01/11 19:55:03 WARN Utils: Your hostname, student-VirtualBox resolves to a loopback address: 127.0.1.1; using 192.168.8.34 instead (on interface enp0s3)\n",
      "23/01/11 19:55:03 WARN Utils: Set SPARK_LOCAL_IP if you need to bind to another address\n"
     ]
    },
    {
     "name": "stderr",
     "output_type": "stream",
     "text": [
      "Setting default log level to \"WARN\".\n",
      "To adjust logging level use sc.setLogLevel(newLevel). For SparkR, use setLogLevel(newLevel).\n"
     ]
    },
    {
     "name": "stdout",
     "output_type": "stream",
     "text": [
      "23/01/11 19:55:04 WARN NativeCodeLoader: Unable to load native-hadoop library for your platform... using builtin-java classes where applicable\n"
     ]
    }
   ],
   "source": [
    "from pyspark.sql import SparkSession\n",
    "spark = SparkSession.builder\\\n",
    "                    .master(\"local\")\\\n",
    "                    .appName('SparkLab3')\\\n",
    "                    .getOrCreate()\n",
    "\n",
    "# Загружаем наборы данных в один DataFrame.\n",
    "tiktokData0 = spark\\\n",
    "  .read\\\n",
    "  .option(\"inferSchema\", \"true\")\\\n",
    "  .option(\"header\", \"true\")\\\n",
    "  .csv(\"/home/student/Downloads/TikTok_songs_csv/\")"
   ]
  },
  {
   "cell_type": "markdown",
   "id": "6e4041a5",
   "metadata": {},
   "source": [
    "№1: Добавьте столбец year целочисленного типа, который содержит год датасета для каждой строки данных. Выведите самые танцевальные песни из наборов данных вместе с полем year.\n",
    "\n",
    "|          track_name|artist_name|year|danceability|\n",
    "|--------------------|-----------|----|------------|\n",
    "|  Dancing in My Room|   347aidan|2020|        0.98|\n",
    "|                 Uno|    Ambjaay|2019|       0.978|\n",
    "|I'm Looking for M...|   Memetown|2020|       0.977|\n",
    "|           Hood Baby|       KBFR|2020|       0.974|\n",
    "|              MICKEY| Lil Yachty|2019|       0.971|\n",
    "|Muffins In The Fr...|      Tiagz|2020|       0.965|\n",
    "\n",
    "<div style=\"text-align: center\"> only showing top 6 rows </div>"
   ]
  },
  {
   "cell_type": "code",
   "execution_count": 14,
   "id": "ff1e6c30",
   "metadata": {},
   "outputs": [
    {
     "name": "stdout",
     "output_type": "stream",
     "text": [
      "+--------------------+-----------+----+------------+\n",
      "|          track_name|artist_name|year|danceability|\n",
      "+--------------------+-----------+----+------------+\n",
      "|  Dancing in My Room|   347aidan|2020|        0.98|\n",
      "|                 Uno|    Ambjaay|2019|       0.978|\n",
      "|I'm Looking for M...|   Memetown|2020|       0.977|\n",
      "|           Hood Baby|       KBFR|2020|       0.974|\n",
      "|              MICKEY| Lil Yachty|2019|       0.971|\n",
      "|Muffins In The Fr...|      Tiagz|2020|       0.965|\n",
      "+--------------------+-----------+----+------------+\n",
      "only showing top 6 rows\n",
      "\n"
     ]
    }
   ],
   "source": [
    "from pyspark.sql.functions import input_file_name\n",
    "from pyspark.sql.functions import regexp_extract\n",
    "from pyspark.sql.functions import desc\n",
    "from pyspark.sql.types import IntegerType\n",
    "\n",
    "tiktokData1 = tiktokData0\\\n",
    "  .withColumn(\"year\", regexp_extract(input_file_name(), r\"TikTok_songs_(\\d+)\\.csv\", 1).cast(\"int\"))\n",
    "\n",
    "tiktokData1.sort(desc(\"danceability\")).select(\"track_name\", \"artist_name\", \"year\", \"danceability\").show(6)"
   ]
  },
  {
   "cell_type": "markdown",
   "id": "c60255bd",
   "metadata": {},
   "source": [
    "№2: Найдите исполнителей, которым сопоставлено более одного значения популярности. Выведите эти значения в виде списков.\n",
    "\n",
    "|          artist|popularity|\n",
    "|----------------|----------|\n",
    "|            KYLE|  [65, 66]|\n",
    "|Kero Kero Bonito|  [57, 56]|\n",
    "|       Kesh Kesh|  [27, 26]|\n",
    "|    Mahogany Lox|  [38, 37]|\n",
    "|   Trevor Daniel|  [66, 65]|\n",
    "|       blackbear|  [79, 80]|"
   ]
  },
  {
   "cell_type": "code",
   "execution_count": 15,
   "id": "31724a4e",
   "metadata": {},
   "outputs": [
    {
     "name": "stdout",
     "output_type": "stream",
     "text": [
      "+----------------+----------+\n",
      "|          artist|popularity|\n",
      "+----------------+----------+\n",
      "|            KYLE|  [66, 65]|\n",
      "|Kero Kero Bonito|  [56, 57]|\n",
      "|       Kesh Kesh|  [27, 26]|\n",
      "|    Mahogany Lox|  [37, 38]|\n",
      "|   Trevor Daniel|  [66, 65]|\n",
      "|       blackbear|  [79, 80]|\n",
      "+----------------+----------+\n",
      "\n"
     ]
    }
   ],
   "source": [
    "from pyspark.sql.functions import col\n",
    "from pyspark.sql.functions import collect_set\n",
    "from pyspark.sql.functions import size\n",
    "\n",
    "tiktokData2 = tiktokData1\\\n",
    "    .groupBy(\"artist_name\").agg(collect_set(\"artist_pop\").alias(\"popularity\"))\n",
    "\n",
    "tiktokData2.select(col(\"artist_name\").alias(\"artist\"), \"popularity\").where(\n",
    "    size(col(\"popularity\")) > 1\n",
    ").show()"
   ]
  },
  {
   "cell_type": "markdown",
   "id": "37340d0e",
   "metadata": {},
   "source": [
    "№3: Исправьте различающиеся значения популярности исполнителей. Замените их на максимальные значения из полученных в предыдущем задании массивов.\n",
    "\n",
    "|          track_name|     artist_name|               album|artist_pop|\n",
    "|--------------------|----------------|--------------------|----------|\n",
    "|     hot girl bummer|       blackbear|     hot girl bummer|        80|\n",
    "|Hey Julie! (feat....|            KYLE|Light of Mine (De...|        66|\n",
    "|             Falling|   Trevor Daniel|             Falling|        66|\n",
    "|             Falling|   Trevor Daniel|            Nicotine|        66|\n",
    "|            Flamingo|Kero Kero Bonito|            Flamingo|        57|\n",
    "|       Take Your Man|    Mahogany Lox|       Take Your Man|        38|\n",
    "|              Vibin'|       Kesh Kesh|              Vibin'|        27|\n",
    "\n",
    "<div style=\"text-align: center\"> 968 </div>"
   ]
  },
  {
   "cell_type": "code",
   "execution_count": 16,
   "id": "61d8e2bd",
   "metadata": {},
   "outputs": [
    {
     "name": "stdout",
     "output_type": "stream",
     "text": [
      "+--------------------+----------------+--------------------+----------+\n",
      "|          track_name|     artist_name|               album|artist_pop|\n",
      "+--------------------+----------------+--------------------+----------+\n",
      "|     hot girl bummer|       blackbear|     hot girl bummer|        80|\n",
      "|Hey Julie! (feat....|            KYLE|Light of Mine (De...|        66|\n",
      "|             Falling|   Trevor Daniel|             Falling|        66|\n",
      "|             Falling|   Trevor Daniel|            Nicotine|        66|\n",
      "|            Flamingo|Kero Kero Bonito|            Flamingo|        57|\n",
      "|       Take Your Man|    Mahogany Lox|       Take Your Man|        38|\n",
      "|              Vibin'|       Kesh Kesh|              Vibin'|        27|\n",
      "+--------------------+----------------+--------------------+----------+\n",
      "\n"
     ]
    },
    {
     "data": {
      "text/plain": [
       "968"
      ]
     },
     "execution_count": 16,
     "metadata": {},
     "output_type": "execute_result"
    }
   ],
   "source": [
    "from pyspark.sql.functions import array_max\n",
    "from pyspark.sql.functions import when\n",
    "\n",
    "tiktokData3 = tiktokData1\\\n",
    "    .drop(\"artist_pop\")\\\n",
    "    .join(tiktokData2.withColumn(\"artist_pop\", array_max(col(\"popularity\"))).drop(\"popularity\"),\n",
    "          \"artist_name\", \"left\")\\\n",
    "    .select(tiktokData1.columns)\n",
    "\n",
    "# Выводим различия между новым  и старым датафреймами\n",
    "substractDf = tiktokData3\\\n",
    "    .subtract(tiktokData1)\\\n",
    "    .select(\"track_name\", \"artist_name\", \"album\", \"artist_pop\")\\\n",
    "    .sort(desc(\"artist_pop\"))\n",
    "\n",
    "substractDf.show()\n",
    "tiktokData3.count()"
   ]
  },
  {
   "cell_type": "markdown",
   "id": "dacae573",
   "metadata": {},
   "source": [
    "№4: Сгруппируйте данные по названию трека, названию альбома, имени и популярности певца. Годы датасетов соберите в списки. Популярность треков возьмите из максимального значения. Для столбцов danceability, energy,   speechiness, acousticness, instrumentalness, liveness и valence возьмите среднее значение. Остальные столбцы отбросьте. Сколько получилось строк в сгруппированном DataFrame?\n",
    "\n",
    "Полученный датафрейм сохраните в новый parquet файл. Это можно сделать методом:\n",
    "\n",
    "```\n",
    "df.write.format(\"parquet\").mode(\"overwrite\").save(\"path to file\")\n",
    "```\n",
    "\n",
    "Результат при этом сохранится в новую директорию.\n",
    "Другой способ:\n",
    "\n",
    "```\n",
    "df.toPandas().to_parquet(\"path to file\")\n",
    "```\n",
    "\n",
    "Результат сохранится в один файл без создания директорий. Для этого способа понадобится библиотека pyarrow.\n",
    "Установите ее с помощью команд:\n",
    "\n",
    "```\n",
    "source ~/Work/bin/activate\n",
    "pip3 install pyarrow\n",
    "```"
   ]
  },
  {
   "cell_type": "code",
   "execution_count": 18,
   "id": "ca52658d",
   "metadata": {},
   "outputs": [
    {
     "name": "stdout",
     "output_type": "stream",
     "text": [
      "+--------------------+--------------------+--------------------+----------+------------+---------+------------+------+-----------+------------+----------------+--------+-------+\n",
      "|          track_name|               album|         artist_name|artist_pop|       years|track_pop|danceability|energy|speechiness|acousticness|instrumentalness|liveness|valence|\n",
      "+--------------------+--------------------+--------------------+----------+------------+---------+------------+------+-----------+------------+----------------+--------+-------+\n",
      "|\"Galactic Mermaid...|\"Galactic Mermaid...|            Kuraiinu|        42|      [2019]|        0|       0.621| 0.446|     0.0384|       0.736|             0.0|   0.613|   0.97|\n",
      "|\"Legs (From \"\"RuP...|\"Legs (From \"\"RuP...|        Lucian Piane|        32|      [2019]|       44|         0.9|  0.72|      0.232|     0.00502|         6.26E-6|   0.543|  0.749|\n",
      "|\"More Than A Woma...|            Greatest|            Bee Gees|        75|      [2020]|       63|       0.632| 0.683|     0.0383|       0.163|          1.3E-4|   0.847|  0.701|\n",
      "|\"More Than A Woma...|How Can You Mend ...|            Bee Gees|        75|      [2022]|       76|       0.601| 0.703|     0.0379|       0.175|          8.4E-5|   0.571|  0.673|\n",
      "|\"Part of Your Wor...|  The Little Mermaid|         Jodi Benson|        53|      [2020]|       60|       0.387| 0.132|     0.0386|       0.914|         7.07E-4|   0.281|  0.323|\n",
      "|\"Sofia the First ...|     Sofia the First|Cast - Sofia the ...|        44|      [2020]|       54|       0.655| 0.789|     0.0489|       0.423|             0.0|    0.13|   0.66|\n",
      "|  #BrooklynBloodPop!|  #BrooklynBloodPop!|                SyKo|        58|      [2021]|       75|       0.691| 0.814|      0.117|      0.0164|             0.0|   0.366|  0.509|\n",
      "|1, 2, 3 (feat. Ja...|1, 2, 3 (feat. Ja...|         Sofía Reyes|        72|      [2022]|       82|       0.792| 0.895|     0.0589|       0.165|             0.0|  0.0501|  0.794|\n",
      "|2 Phút Hơn - KAIZ...|2 Phút Hơn (KAIZ ...|                Pháo|        46|      [2021]|       62|       0.845| 0.733|     0.0566|      0.0265|          0.0109|   0.063|   0.28|\n",
      "|              20 Min|Luv Is Rage 2 (De...|        Lil Uzi Vert|        85|      [2020]|       83|       0.773|  0.75|      0.117|       0.109|             0.0|   0.174|  0.783|\n",
      "|223's (feat. 9lok...|223's (feat. 9lok...|           YNW Melly|        73|      [2020]|       65|       0.932| 0.547|      0.333|      0.0388|             0.0|  0.0924|  0.695|\n",
      "|223's (feat. 9lok...|    Melly vs. Melvin|           YNW Melly|        73|      [2019]|       66|       0.932| 0.547|      0.333|      0.0388|             0.0|  0.0924|  0.695|\n",
      "|                24/7|                CECE|       Celina Sharma|        52|      [2021]|       67|       0.704| 0.638|     0.0742|       0.385|             0.0|  0.0683|  0.386|\n",
      "|        3 Musketeers|        3 Musketeers|         NextYoungin|        47|      [2020]|       65|        0.91| 0.617|     0.0847|       0.258|             0.0|   0.122|  0.572|\n",
      "|           3 Strikes|            Bop City|           Terror Jr|        47|      [2021]|       56|       0.599| 0.432|     0.0451|        0.62|         0.00773|   0.105|  0.615|\n",
      "|               34+35|           Positions|       Ariana Grande|        87|[2022, 2021]|       80|        0.83| 0.585|      0.094|       0.237|             0.0|   0.248|  0.485|\n",
      "|             7 rings|             7 rings|       Ariana Grande|        87|      [2019]|        1|       0.725| 0.321|      0.323|       0.578|             0.0|  0.0884|  0.319|\n",
      "|    A Thousand Years|    A Thousand Years|     Christina Perri|        70|      [2019]|       80|       0.421| 0.407|     0.0267|       0.309|         9.61E-4|    0.11|  0.161|\n",
      "|                A.M.|                A.M.|               Lonr.|        44|      [2019]|       51|        0.74| 0.761|     0.0851|      0.0691|             0.0|   0.142|  0.453|\n",
      "|              ALL IN|   HighDefGang Vol.1|         ZaeHD & CEO|        37|      [2019]|       44|       0.895| 0.394|      0.407|     6.86E-4|             0.0|   0.239|  0.491|\n",
      "+--------------------+--------------------+--------------------+----------+------------+---------+------------+------+-----------+------------+----------------+--------+-------+\n",
      "only showing top 20 rows\n",
      "\n"
     ]
    }
   ],
   "source": [
    "from pyspark.sql.functions import expr\n",
    "from pyspark.sql.functions import max\n",
    "from pyspark.sql.functions import avg\n",
    "from pyspark.sql.functions import size\n",
    "from pyspark.sql.functions import sort_array\n",
    "\n",
    "tiktokData4 = tiktokData3\\\n",
    "    .groupBy(\"track_name\", \"album\", \"artist_name\", \"artist_pop\")\\\n",
    "    .agg(collect_set(col(\"year\")).alias(\"years\"),\n",
    "        max(col(\"track_pop\")).alias(\"track_pop\"),\n",
    "        avg(col(\"danceability\")).alias(\"danceability\"),\n",
    "        avg(col(\"energy\")).alias(\"energy\"),\n",
    "        avg(col(\"speechiness\")).alias(\"speechiness\"),\n",
    "        avg(col(\"acousticness\")).alias(\"acousticness\"),\n",
    "        avg(col(\"instrumentalness\")).alias(\"instrumentalness\"),\n",
    "        avg(col(\"liveness\")).alias(\"liveness\"),\n",
    "        avg(col(\"valence\")).alias(\"valence\"))\n",
    "\n",
    "tiktokData4.show()\n",
    "tiktokData4.count()\n",
    "tiktokData4.write.format(\"parquet\").mode(\"overwrite\").save(\"task_4\")"
   ]
  },
  {
   "cell_type": "markdown",
   "id": "a4fa2dc8",
   "metadata": {},
   "source": [
    "№5: Отсортируйте песни по количеству вхождений в датасеты и популярности. Выведите их вместе со списками годов наборов данных.\n",
    "\n",
    "|          track_name|               album|     artist_name|track_pop|               years|\n",
    "|--------------------|--------------------|----------------|---------|--------------------|\n",
    "|              Say So|            Hot Pink|        Doja Cat|       80|[2019, 2020, 2021...|\n",
    "|      Wait a Minute!|        ARDIPITHECUS|          WILLOW|       86|  [2019, 2020, 2022]|\n",
    "|       Electric Love|            Dopamine|           BØRNS|       82|  [2020, 2021, 2022]|\n",
    "|           Play Date|Cry Baby (Deluxe ...|Melanie Martinez|       78|  [2020, 2021, 2022]|\n",
    "|             ROXANNE|             ROXANNE|  Arizona Zervas|       78|  [2019, 2020, 2022]|\n",
    "|Savage Love (Laxe...|Savage Love (Laxe...|       Jawsh 685|       77|  [2020, 2021, 2022]|\n",
    "\n",
    "<div style=\"text-align: center\"> only showing top 6 rows </div>"
   ]
  },
  {
   "cell_type": "code",
   "execution_count": 19,
   "id": "db4e6270",
   "metadata": {},
   "outputs": [
    {
     "name": "stdout",
     "output_type": "stream",
     "text": [
      "+--------------------+--------------------+----------------+---------+--------------------+\n",
      "|          track_name|               album|     artist_name|track_pop|               years|\n",
      "+--------------------+--------------------+----------------+---------+--------------------+\n",
      "|              Say So|            Hot Pink|        Doja Cat|       80|[2022, 2019, 2020...|\n",
      "|      Wait a Minute!|        ARDIPITHECUS|          WILLOW|       86|  [2022, 2019, 2020]|\n",
      "|       Electric Love|            Dopamine|           BØRNS|       82|  [2022, 2020, 2021]|\n",
      "|             ROXANNE|             ROXANNE|  Arizona Zervas|       78|  [2022, 2019, 2020]|\n",
      "|           Play Date|Cry Baby (Deluxe ...|Melanie Martinez|       78|  [2022, 2020, 2021]|\n",
      "|Savage Love (Laxe...|Savage Love (Laxe...|       Jawsh 685|       77|  [2022, 2020, 2021]|\n",
      "+--------------------+--------------------+----------------+---------+--------------------+\n",
      "only showing top 6 rows\n",
      "\n"
     ]
    }
   ],
   "source": [
    "tiktokData5 = tiktokData4.orderBy(desc(size(col(\"years\"))), desc(\"track_pop\")).select(\n",
    "    \"track_name\", \"album\", \"artist_name\", \"track_pop\", \"years\"\n",
    ")\n",
    "\n",
    "tiktokData5.show(6)"
   ]
  },
  {
   "cell_type": "markdown",
   "id": "f8bb1709",
   "metadata": {},
   "source": [
    "№6: Найдите все треки с повторяющимися именами. Выполните их сортировку по названию. Выведите названия песен, названия альбомов, имена исполнителей и годы датасетов. Сколько строк в полученной таблице?\n",
    "\n",
    "|          track_name|               album|   artist_name| years|\n",
    "|--------------------|--------------------|--------------|------|\n",
    "|\"More Than A Woma...|How Can You Mend ...|      Bee Gees|[2022]|\n",
    "|\"More Than A Woma...|            Greatest|      Bee Gees|[2020]|\n",
    "|223's (feat. 9lok...|    Melly vs. Melvin|     YNW Melly|[2019]|\n",
    "|223's (feat. 9lok...|223's (feat. 9lok...|     YNW Melly|[2020]|\n",
    "|           As It Was|           As It Was|Michael Shynes|[2022]|\n",
    "|           As It Was|           As It Was|  Harry Styles|[2022]|\n",
    "\n",
    "<div style=\"text-align: center\"> only showing top 6 rows </div>"
   ]
  },
  {
   "cell_type": "code",
   "execution_count": 47,
   "id": "e866659a",
   "metadata": {},
   "outputs": [
    {
     "name": "stdout",
     "output_type": "stream",
     "text": [
      "+--------------------+--------------------+--------------+------+\n",
      "|          track_name|               album|   artist_name| years|\n",
      "+--------------------+--------------------+--------------+------+\n",
      "|\"More Than A Woma...|            Greatest|      Bee Gees|[2020]|\n",
      "|\"More Than A Woma...|How Can You Mend ...|      Bee Gees|[2022]|\n",
      "|223's (feat. 9lok...|223's (feat. 9lok...|     YNW Melly|[2020]|\n",
      "|223's (feat. 9lok...|    Melly vs. Melvin|     YNW Melly|[2019]|\n",
      "|           As It Was|           As It Was|Michael Shynes|[2022]|\n",
      "|           As It Was|           As It Was|  Harry Styles|[2022]|\n",
      "+--------------------+--------------------+--------------+------+\n",
      "only showing top 6 rows\n",
      "\n"
     ]
    },
    {
     "data": {
      "text/plain": [
       "85"
      ]
     },
     "execution_count": 47,
     "metadata": {},
     "output_type": "execute_result"
    }
   ],
   "source": [
    "from pyspark.sql.functions import count\n",
    "\n",
    "tiktokData6 = tiktokData5\\\n",
    "    .join(tiktokData5.groupBy(\"track_name\").agg(count(\"*\").alias(\"count\")).where(col(\"count\") > 1),\n",
    "          \"track_name\")\\\n",
    "    .select(tiktokData5.track_name, \"album\", \"artist_name\", \"years\")\\\n",
    "    .orderBy(tiktokData5.track_name)\n",
    "\n",
    "tiktokData6.show(6)\n",
    "tiktokData6.count()"
   ]
  },
  {
   "cell_type": "code",
   "execution_count": null,
   "id": "a92e9e0f",
   "metadata": {},
   "outputs": [],
   "source": []
  }
 ],
 "metadata": {
  "kernelspec": {
   "display_name": "Python 3 (ipykernel)",
   "language": "python",
   "name": "python3"
  },
  "language_info": {
   "codemirror_mode": {
    "name": "ipython",
    "version": 3
   },
   "file_extension": ".py",
   "mimetype": "text/x-python",
   "name": "python",
   "nbconvert_exporter": "python",
   "pygments_lexer": "ipython3",
   "version": "3.10.6"
  }
 },
 "nbformat": 4,
 "nbformat_minor": 5
}
