{
 "cells": [
  {
   "cell_type": "markdown",
   "id": "bc0a72c9",
   "metadata": {},
   "source": [
    "- Прочитайте главы 4-6 из книги \"Spark: The Definitive Guide\".\n",
    "- Загрузите датасет из предыдущей лабораторной работы:\n",
    "    - https://www.kaggle.com/datasets/sveta151/tiktok-popular-songs-2022\n",
    "- Выполните задания."
   ]
  },
  {
   "cell_type": "code",
   "execution_count": 1,
   "id": "5a814fb9",
   "metadata": {},
   "outputs": [
    {
     "name": "stdout",
     "output_type": "stream",
     "text": [
      "23/01/09 01:56:20 WARN Utils: Your hostname, student-VirtualBox resolves to a loopback address: 127.0.1.1; using 192.168.8.34 instead (on interface enp0s3)\n",
      "23/01/09 01:56:20 WARN Utils: Set SPARK_LOCAL_IP if you need to bind to another address\n"
     ]
    },
    {
     "name": "stderr",
     "output_type": "stream",
     "text": [
      "Setting default log level to \"WARN\".\n",
      "To adjust logging level use sc.setLogLevel(newLevel). For SparkR, use setLogLevel(newLevel).\n"
     ]
    },
    {
     "name": "stdout",
     "output_type": "stream",
     "text": [
      "23/01/09 01:56:21 WARN NativeCodeLoader: Unable to load native-hadoop library for your platform... using builtin-java classes where applicable\n",
      "23/01/09 01:56:21 WARN Utils: Service 'SparkUI' could not bind on port 4040. Attempting port 4041.\n"
     ]
    }
   ],
   "source": [
    "# Создаем SparkSession\n",
    "import pyspark\n",
    "from pyspark.sql import SparkSession\n",
    "spark = SparkSession.builder.master(\"local[1]\") \\\n",
    "                    .appName('SparkLab2') \\\n",
    "                    .getOrCreate()\n",
    "\n",
    "# Загружаем датасет.\n",
    "tiktokData0 = spark\\\n",
    "  .read\\\n",
    "  .option(\"inferSchema\", \"true\")\\\n",
    "  .option(\"header\", \"true\")\\\n",
    "  .csv(\"/home/student/Downloads/TikTok_songs_csv/TikTok_songs_2022.csv\")"
   ]
  },
  {
   "cell_type": "markdown",
   "id": "afa83d79",
   "metadata": {},
   "source": [
    "№1: В столбце \"loudness\" переведите значения из дБ в проценты громкости. Выведите топ10 самых громких песен.\n",
    "\n",
    "|          track_name|               album|        artist_name|loudness|\n",
    "|--------------------|--------------------|-------------------|--------|\n",
    "|          Astronomia|          Astronomia|           Vicetone|      55|\n",
    "|     Sweater Weather|         I Love You.|  The Neighbourhood|      52|\n",
    "|          Dandelions|          Safe Haven|            Ruth B.|      51|\n",
    "|1, 2, 3 (feat. Ja...|1, 2, 3 (feat. Ja...|        Sofía Reyes|      49|\n",
    "|   Beauty And A Beat|   Beauty And A Beat|              Other|      49|\n",
    "|Being Good Is Boring|Being Good Is Boring|              Other|      48|\n",
    "|Wellerman - Sea S...|Wellerman (Sea Sh...|       Nathan Evans|      47|\n",
    "|           Thot Shit|           Thot Shit|Megan Thee Stallion|      45|\n",
    "|Friday (feat. Muf...|Friday (feat. Muf...|              Riton|      45|\n",
    "|               Hawái|        PAPI JUANCHO|             Maluma|      45|"
   ]
  },
  {
   "cell_type": "code",
   "execution_count": 2,
   "id": "ed5f3f3c",
   "metadata": {},
   "outputs": [
    {
     "name": "stdout",
     "output_type": "stream",
     "text": [
      "+--------------------+--------------------+-------------------+--------+\n",
      "|          track_name|               album|        artist_name|loudness|\n",
      "+--------------------+--------------------+-------------------+--------+\n",
      "|          Astronomia|          Astronomia|           Vicetone|      55|\n",
      "|     Sweater Weather|         I Love You.|  The Neighbourhood|      52|\n",
      "|          Dandelions|          Safe Haven|            Ruth B.|      51|\n",
      "|1, 2, 3 (feat. Ja...|1, 2, 3 (feat. Ja...|        Sofía Reyes|      49|\n",
      "|   Beauty And A Beat|   Beauty And A Beat|             Glamii|      49|\n",
      "|Being Good Is Boring|Being Good Is Boring|          Jena Rose|      48|\n",
      "|Wellerman - Sea S...|Wellerman (Sea Sh...|       Nathan Evans|      47|\n",
      "|           Thot Shit|           Thot Shit|Megan Thee Stallion|      45|\n",
      "|Friday (feat. Muf...|Friday (feat. Muf...|              Riton|      45|\n",
      "|               Hawái|        PAPI JUANCHO|             Maluma|      45|\n",
      "+--------------------+--------------------+-------------------+--------+\n",
      "only showing top 10 rows\n",
      "\n"
     ]
    }
   ],
   "source": [
    "from pyspark.sql.functions import desc\n",
    "from pyspark.sql.functions import col\n",
    "from pyspark.sql.functions import round\n",
    "from pyspark.sql.types import IntegerType\n",
    "\n",
    "tiktokData1 = tiktokData0\\\n",
    "    .withColumn(\"loudness\", round((10 ** (tiktokData0.loudness / 10) * 100)).cast(\"int\"))\n",
    "\n",
    "tiktokData1.sort(desc(\"loudness\")).select(\"track_name\", \"album\", \"artist_name\", \"loudness\").show(10)"
   ]
  },
  {
   "cell_type": "markdown",
   "id": "62e8b3e2",
   "metadata": {},
   "source": [
    "№2: Получите имена соисполнителей из названий песен. Вынесите их в отдельный столбец. Удалите информацию о соисполнителях из названий треков.\n",
    "\n",
    "|track_name                                     |artist_name      |feat                       |\n",
    "|-----------------------------------------------|-----------------|---------------------------|\n",
    "|INDUSTRY BABY                                  |Lil Nas X        |Jack Harlow                |\n",
    "|Left and Right (Charlie Puth) - Sped Up Version|sped up nightcore|Jung Kook of BTS           |\n",
    "|Bam Bam                                        |Camila Cabello   |Ed Sheeran                 |\n",
    "|Down Under                                     |Luude            |Colin Hay                  |\n",
    "|1, 2, 3                                        |Sofía Reyes      |Jason Derulo & De La Ghetto|\n",
    "|Chaa Chaa Chaa                                 |Girll Codee      |HoodCelebrityy             |\n",
    "\n",
    "<div style=\"text-align: center\"> only showing top 6 rows </div>"
   ]
  },
  {
   "cell_type": "code",
   "execution_count": 3,
   "id": "c47f574d",
   "metadata": {},
   "outputs": [
    {
     "name": "stdout",
     "output_type": "stream",
     "text": [
      "+-----------------------------------------------+-----------------+---------------------------+\n",
      "|track_name                                     |artist_name      |feat                       |\n",
      "+-----------------------------------------------+-----------------+---------------------------+\n",
      "|INDUSTRY BABY                                  |Lil Nas X        |Jack Harlow                |\n",
      "|Left and Right (Charlie Puth) - Sped Up Version|sped up nightcore|Jung Kook of BTS           |\n",
      "|Bam Bam                                        |Camila Cabello   |Ed Sheeran                 |\n",
      "|Down Under                                     |Luude            |Colin Hay                  |\n",
      "|1, 2, 3                                        |Sofía Reyes      |Jason Derulo & De La Ghetto|\n",
      "|Chaa Chaa Chaa                                 |Girll Codee      |HoodCelebrityy             |\n",
      "+-----------------------------------------------+-----------------+---------------------------+\n",
      "only showing top 6 rows\n",
      "\n"
     ]
    }
   ],
   "source": [
    "from pyspark.sql.functions import regexp_extract\n",
    "from pyspark.sql.functions import regexp_replace\n",
    "\n",
    "tiktokData2 = tiktokData1\\\n",
    "    .withColumn(\"feat\", regexp_extract(tiktokData1.track_name, r\"feat. ([\\w\\s&]+)\", 1))\\\n",
    "    .withColumn(\"track_name\", regexp_replace(tiktokData1.track_name, r\" .feat. ([\\w\\s&]+).\", \"\"))\n",
    "\n",
    "tiktokData2.select(\"track_name\", \"artist_name\", \"feat\").where(\n",
    "    tiktokData2.feat != \"\"\n",
    ").show(6, False)"
   ]
  },
  {
   "cell_type": "markdown",
   "id": "f70cb42e",
   "metadata": {},
   "source": [
    "№3: Разделите строки с соисполнителями по символу '&'. Для каждой песни соберите всех исполнителей в один массив. Отсортируйте песни по количеству исполнителей и названиям песен.\n",
    "\n",
    "|track_name                       |artist_names                             |\n",
    "|---------------------------------|-----------------------------------------|\n",
    "|1, 2, 3                          |[Sofía Reyes, Jason Derulo, De La Ghetto]|\n",
    "|For The Night                    |[Pop Smoke, Lil Baby, DaBaby]            |\n",
    "|Friday - Dopamine Re-Edit        |[Riton, Mufasa, Hypeman]                 |\n",
    "|Peaches                          |[Justin Bieber, Daniel Caesar, Giveon]   |\n",
    "|Bam Bam                          |[Camila Cabello, Ed Sheeran]             |\n",
    "|Banana - DJ FLe - Minisiren Remix|[Conkarah, Shaggy]                       |\n",
    "\n",
    "<div style=\"text-align: center\"> only showing top 6 rows </div>"
   ]
  },
  {
   "cell_type": "code",
   "execution_count": 4,
   "id": "a48faba9",
   "metadata": {},
   "outputs": [
    {
     "name": "stdout",
     "output_type": "stream",
     "text": [
      "+-------------------------+-----------------------------------------+\n",
      "|track_name               |artist_names                             |\n",
      "+-------------------------+-----------------------------------------+\n",
      "|1, 2, 3                  |[Sofía Reyes, Jason Derulo, De La Ghetto]|\n",
      "|Don't Rush               |[Young T, Bugsey, Headie One]            |\n",
      "|For The Night            |[Pop Smoke, Lil Baby, DaBaby]            |\n",
      "|Friday - Dopamine Re-Edit|[Riton, Mufasa, Hypeman]                 |\n",
      "|Peaches                  |[Justin Bieber, Daniel Caesar, Giveon]   |\n",
      "|Bam Bam                  |[Camila Cabello, Ed Sheeran]             |\n",
      "+-------------------------+-----------------------------------------+\n",
      "only showing top 6 rows\n",
      "\n"
     ]
    }
   ],
   "source": [
    "from pyspark.sql.functions import split\n",
    "from pyspark.sql.functions import array_union\n",
    "from pyspark.sql.functions import array\n",
    "from pyspark.sql.functions import size\n",
    "from pyspark.sql.functions import when\n",
    "from pyspark.sql.functions import filter\n",
    "\n",
    "tiktokData3 = tiktokData2.withColumn(\n",
    "    \"artist_names\",\n",
    "    filter(\n",
    "        array_union(\n",
    "            split(tiktokData2.artist_name, \" & \"), split(tiktokData2.feat, \" & \")\n",
    "        ),\n",
    "        lambda e: e != \"\",\n",
    "    ),\n",
    ")\n",
    "\n",
    "tiktokData3.select(\"track_name\", \"artist_names\").orderBy(\n",
    "    desc(size(tiktokData3.artist_names)), tiktokData3.track_name\n",
    ").show(6, False)"
   ]
  },
  {
   "cell_type": "markdown",
   "id": "3a71a168",
   "metadata": {},
   "source": [
    "№4: Выведите список песен Doja Cat.\n",
    "\n",
    "|  track_name|               album|        artist_names|\n",
    "|------------|--------------------|--------------------|\n",
    "|       Woman|          Planet Her|          [Doja Cat]|\n",
    "|Kiss Me More|Kiss Me More (fea...|     [Doja Cat, SZA]|\n",
    "|Need to Know|          Planet Her|          [Doja Cat]|\n",
    "|  Ain't Shit|          Planet Her|          [Doja Cat]|\n",
    "|   You Right|          Planet Her|          [Doja Cat]|\n",
    "| Best Friend|Best Friend (feat...|[Saweetie, Doja Cat]|\n",
    "|       Freak|               Freak|          [Doja Cat]|\n",
    "|  Boss Bitch|          Boss Bitch|          [Doja Cat]|\n",
    "|      Say So|            Hot Pink|          [Doja Cat]|"
   ]
  },
  {
   "cell_type": "code",
   "execution_count": 5,
   "id": "689cc597",
   "metadata": {},
   "outputs": [
    {
     "name": "stdout",
     "output_type": "stream",
     "text": [
      "+------------+---------------------------------------+--------------------+\n",
      "|track_name  |album                                  |artist_names        |\n",
      "+------------+---------------------------------------+--------------------+\n",
      "|Woman       |Planet Her                             |[Doja Cat]          |\n",
      "|Kiss Me More|Kiss Me More (feat. SZA)               |[Doja Cat, SZA]     |\n",
      "|Need to Know|Planet Her                             |[Doja Cat]          |\n",
      "|Ain't Shit  |Planet Her                             |[Doja Cat]          |\n",
      "|You Right   |Planet Her                             |[Doja Cat]          |\n",
      "|Best Friend |Best Friend (feat. Doja Cat) [Remix EP]|[Saweetie, Doja Cat]|\n",
      "|Freak       |Freak                                  |[Doja Cat]          |\n",
      "|Boss Bitch  |Boss Bitch                             |[Doja Cat]          |\n",
      "|Say So      |Hot Pink                               |[Doja Cat]          |\n",
      "+------------+---------------------------------------+--------------------+\n",
      "\n"
     ]
    }
   ],
   "source": [
    "from pyspark.sql.functions import explode\n",
    "from pyspark.sql.functions import array_contains\n",
    "\n",
    "tiktokData3.select(\"track_name\", \"album\", \"artist_names\").where(\n",
    "    array_contains(tiktokData3.artist_names, \"Doja Cat\")\n",
    ").show(truncate=False)"
   ]
  },
  {
   "cell_type": "markdown",
   "id": "ddf9daf5",
   "metadata": {},
   "source": [
    "№5: Выведите таблицу с исполнителями и количеством их треков в порядке уменьшения.\n",
    "\n",
    "|   artist_name|count|\n",
    "|--------------|-----|\n",
    "|      Doja Cat|    9|\n",
    "|        Coopex|    6|\n",
    "|     Dame Dame|    5|\n",
    "|Alex Alexander|    4|\n",
    "|       YES YES|    4|\n",
    "|     Lil Nas X|    4|\n",
    "\n",
    "\n",
    "<div style=\"text-align: center\"> only showing top 6 rows </div>"
   ]
  },
  {
   "cell_type": "code",
   "execution_count": 6,
   "id": "6221c4a3",
   "metadata": {},
   "outputs": [
    {
     "name": "stdout",
     "output_type": "stream",
     "text": [
      "+--------------+-----+\n",
      "|artist_name   |count|\n",
      "+--------------+-----+\n",
      "|Doja Cat      |9    |\n",
      "|Coopex        |6    |\n",
      "|Dame Dame     |5    |\n",
      "|Alex Alexander|4    |\n",
      "|DaBaby        |4    |\n",
      "|Drake         |4    |\n",
      "+--------------+-----+\n",
      "only showing top 6 rows\n",
      "\n"
     ]
    }
   ],
   "source": [
    "tiktokData4 = tiktokData3.select(\n",
    "    \"track_name\",\n",
    "    explode(tiktokData3.artist_names).alias(\"artist_name\"),\n",
    "    \"track_pop\",\n",
    "    \"artist_pop\",\n",
    ")\n",
    "\n",
    "tiktokData4.groupBy(\"artist_name\").count().orderBy(desc(\"count\"), \"artist_name\").show(\n",
    "    6, False\n",
    ")"
   ]
  },
  {
   "cell_type": "markdown",
   "id": "4e11fa46",
   "metadata": {},
   "source": [
    "№6: Замените имена всех исполнителей, популярность которых неизвестна или меньше 50, на \"Other\". Отсортируйте треки по количеству исполнителей и популярности.\n",
    "\n",
    "|track_name               |artist_names                   |track_pop|\n",
    "|-------------------------|-------------------------------|---------|\n",
    "|Peaches                  |[Justin Bieber, Other, Other]  |86       |\n",
    "|Friday - Dopamine Re-Edit|[Riton, Other, Other]          |83       |\n",
    "|1, 2, 3                  |[Sofía Reyes, Other, Other]    |82       |\n",
    "|For The Night            |[Pop Smoke, Other, DaBaby]     |80       |\n",
    "|Jimmy Cooks              |[Drake, Other]                 |92       |\n",
    "|INDUSTRY BABY            |[Lil Nas X, Jack Harlow]       |86       |\n",
    "|Levitating               |[Dua Lipa, DaBaby]             |85       |\n",
    "|Bam Bam                  |[Camila Cabello, Ed Sheeran]   |83       |\n",
    "|Beautiful Mistakes       |[Maroon 5, Megan Thee Stallion]|82       |\n",
    "|Kiss Me More             |[Doja Cat, SZA]                |82       |\n",
    "\n",
    "<div style=\"text-align: center\"> only showing top 10 rows </div>"
   ]
  },
  {
   "cell_type": "code",
   "execution_count": 7,
   "id": "902b0f05",
   "metadata": {},
   "outputs": [
    {
     "name": "stdout",
     "output_type": "stream",
     "text": [
      "+-------------------------+-----------------------------+---------+\n",
      "|track_name               |artist_names                 |track_pop|\n",
      "+-------------------------+-----------------------------+---------+\n",
      "|Peaches                  |[Justin Bieber, Other, Other]|86       |\n",
      "|Friday - Dopamine Re-Edit|[Riton, Other, Other]        |83       |\n",
      "|1, 2, 3                  |[Sofía Reyes, Other, Other]  |82       |\n",
      "|For The Night            |[Pop Smoke, Other, DaBaby]   |80       |\n",
      "|Don't Rush               |[Other, Other, Other]        |63       |\n",
      "|Jimmy Cooks              |[Drake, Other]               |92       |\n",
      "|INDUSTRY BABY            |[Lil Nas X, Jack Harlow]     |86       |\n",
      "|Levitating               |[Dua Lipa, DaBaby]           |85       |\n",
      "|Bam Bam                  |[Camila Cabello, Ed Sheeran] |83       |\n",
      "|Kiss Me More             |[Doja Cat, SZA]              |82       |\n",
      "+-------------------------+-----------------------------+---------+\n",
      "only showing top 10 rows\n",
      "\n"
     ]
    }
   ],
   "source": [
    "from pyspark.sql.functions import collect_list\n",
    "\n",
    "tiktokData5 = tiktokData4.withColumn(\n",
    "    \"artist_name\",\n",
    "    when(\n",
    "        tiktokData4.artist_name.isin(\n",
    "            tiktokData0.select(\"artist_name\")\n",
    "            .where(\"artist_pop > 50\")\n",
    "            .rdd.map(lambda r: r.artist_name)\n",
    "            .collect()\n",
    "        ),\n",
    "        tiktokData4.artist_name,\n",
    "    ).otherwise(\"Other\"),\n",
    ")\n",
    "\n",
    "tiktokData5.groupBy(\"track_name\", \"track_pop\").agg(\n",
    "    collect_list(\"artist_name\").alias(\"artist_names\")\n",
    ").select(\"track_name\", \"artist_names\", \"track_pop\").orderBy(\n",
    "    desc(size(\"artist_names\")), desc(\"track_pop\")\n",
    ").show(\n",
    "    10, False\n",
    ")"
   ]
  }
 ],
 "metadata": {
  "kernelspec": {
   "display_name": "Python 3 (ipykernel)",
   "language": "python",
   "name": "python3"
  },
  "language_info": {
   "codemirror_mode": {
    "name": "ipython",
    "version": 3
   },
   "file_extension": ".py",
   "mimetype": "text/x-python",
   "name": "python",
   "nbconvert_exporter": "python",
   "pygments_lexer": "ipython3",
   "version": "3.10.6"
  }
 },
 "nbformat": 4,
 "nbformat_minor": 5
}
